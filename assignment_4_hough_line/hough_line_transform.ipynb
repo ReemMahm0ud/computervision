{
 "cells": [
  {
   "cell_type": "code",
   "execution_count": 1,
   "metadata": {},
   "outputs": [],
   "source": [
    "import numpy as np\n",
    "import cv2\n",
    "import matplotlib.pyplot as plt"
   ]
  },
  {
   "cell_type": "code",
   "execution_count": null,
   "metadata": {},
   "outputs": [],
   "source": []
  },
  {
   "cell_type": "code",
   "execution_count": 2,
   "metadata": {},
   "outputs": [],
   "source": [
    "shapes = cv2.imread('hough.jpg')\n",
    "#cv2.imshow('Original Image', shapes)\n",
    "#cv2.waitKey(0)\n",
    "#cv2.destroyAllWindows()\n",
    "shapes_grayscale = cv2.cvtColor(shapes, cv2.COLOR_RGB2GRAY)\n"
   ]
  },
  {
   "cell_type": "code",
   "execution_count": null,
   "metadata": {},
   "outputs": [],
   "source": []
  },
  {
   "cell_type": "code",
   "execution_count": 3,
   "metadata": {},
   "outputs": [],
   "source": [
    "cv2.imshow('grayscale Image',shapes_grayscale )\n",
    "#cv2.waitKey(0)\n",
    "#cv2.destroyAllWindows()"
   ]
  },
  {
   "cell_type": "code",
   "execution_count": null,
   "metadata": {},
   "outputs": [],
   "source": []
  },
  {
   "cell_type": "code",
   "execution_count": 4,
   "metadata": {},
   "outputs": [],
   "source": [
    "shapes_blurred = cv2.GaussianBlur(shapes_grayscale, (5, 5), 1.5)"
   ]
  },
  {
   "cell_type": "code",
   "execution_count": null,
   "metadata": {},
   "outputs": [],
   "source": []
  },
  {
   "cell_type": "code",
   "execution_count": 5,
   "metadata": {},
   "outputs": [],
   "source": [
    "canny_edges = cv2.Canny(shapes_blurred, 100, 200)\n",
    "cv2.imshow('Canny Edges', canny_edges)\n",
    "cv2.waitKey(0)\n",
    "cv2.destroyAllWindows()"
   ]
  },
  {
   "cell_type": "code",
   "execution_count": null,
   "metadata": {},
   "outputs": [],
   "source": []
  },
  {
   "cell_type": "code",
   "execution_count": 6,
   "metadata": {},
   "outputs": [],
   "source": [
    "def hough_lines_acc(img, rho_resolution=1, theta_resolution=1):\n",
    "    height, width = img.shape # we need heigth and width to calculate the diag\n",
    "    img_diagonal = np.ceil(np.sqrt(height**2 + width**2)) # a**2 + b**2 = c**2\n",
    "    rhos = np.arange(-img_diagonal, img_diagonal + 1, rho_resolution)\n",
    "    thetas = np.deg2rad(np.arange(-90, 90, theta_resolution))\n",
    "\n",
    "    # create the empty Hough Accumulator with dimensions equal to the size of\n",
    "    # rhos and thetas\n",
    "    H = np.zeros((len(rhos), len(thetas)), dtype=np.uint64)\n",
    "    y_idxs, x_idxs = np.nonzero(img) # find all edge (nonzero) pixel indexes\n",
    "\n",
    "    for i in range(len(x_idxs)): # cycle through edge points\n",
    "        x = x_idxs[i]\n",
    "        y = y_idxs[i]\n",
    "\n",
    "        for j in range(len(thetas)): # cycle through thetas and calc rho\n",
    "            rho = int((x * np.cos(thetas[j]) +\n",
    "                       y * np.sin(thetas[j])) + img_diagonal)\n",
    "            H[rho, j] += 1\n",
    "\n",
    "    return H, rhos, thetas"
   ]
  },
  {
   "cell_type": "code",
   "execution_count": null,
   "metadata": {},
   "outputs": [],
   "source": []
  },
  {
   "cell_type": "code",
   "execution_count": 7,
   "metadata": {},
   "outputs": [],
   "source": [
    "def hough_simple_peaks(H, num_peaks):\n",
    "    indices =  np.argpartition(H.flatten(), -2)[-num_peaks:]\n",
    "    return np.vstack(np.unravel_index(indices, H.shape)).T\n"
   ]
  },
  {
   "cell_type": "code",
   "execution_count": null,
   "metadata": {},
   "outputs": [],
   "source": []
  },
  {
   "cell_type": "code",
   "execution_count": 8,
   "metadata": {},
   "outputs": [],
   "source": [
    "def hough_peaks(H, num_peaks, threshold=0, nhood_size=3):\n",
    "    \n",
    "    # loop through number of peaks to identify\n",
    "    indicies = []\n",
    "    H1 = np.copy(H)\n",
    "    for i in range(num_peaks):\n",
    "        idx = np.argmax(H1) # find argmax in flattened array\n",
    "        H1_idx = np.unravel_index(idx, H1.shape) # remap to shape of H\n",
    "        indicies.append(H1_idx)\n",
    "\n",
    "        # surpess indicies in neighborhood\n",
    "        idx_y, idx_x = H1_idx # first separate x, y indexes from argmax(H)\n",
    "        # if idx_x is too close to the edges choose appropriate values\n",
    "        if (idx_x - (nhood_size/2)) < 0: min_x = 0\n",
    "        else: min_x = idx_x - (nhood_size/2)\n",
    "        if ((idx_x + (nhood_size/2) + 1) > H.shape[1]): max_x = H.shape[1]\n",
    "        else: max_x = idx_x + (nhood_size/2) + 1\n",
    "\n",
    "        # if idx_y is too close to the edges choose appropriate values\n",
    "        if (idx_y - (nhood_size/2)) < 0: min_y = 0\n",
    "        else: min_y = idx_y - (nhood_size/2)\n",
    "        if ((idx_y + (nhood_size/2) + 1) > H.shape[0]): max_y = H.shape[0]\n",
    "        else: max_y = idx_y + (nhood_size/2) + 1\n",
    "\n",
    "        # bound each index by the neighborhood size and set all values to 0\n",
    "        for x in range(int(min_x),int( max_x)):\n",
    "            for y in range(int(min_y), int(max_y)):\n",
    "                # remove neighborhoods in H1\n",
    "                H1[y, x] = 0\n",
    "\n",
    "                # highlight peaks in original H\n",
    "                if (x == min_x or x == (max_x - 1)):\n",
    "                    H[y, x] = 255\n",
    "                if (y == min_y or y == (max_y - 1)):\n",
    "                    H[y, x] = 255\n",
    "\n",
    "    # return the indicies and the original Hough space with selected points\n",
    "    return indicies, H"
   ]
  },
  {
   "cell_type": "code",
   "execution_count": null,
   "metadata": {},
   "outputs": [],
   "source": []
  },
  {
   "cell_type": "code",
   "execution_count": 9,
   "metadata": {},
   "outputs": [],
   "source": [
    "def plot_hough_acc(H, plot_title='Hough Accumulator Plot'):\n",
    "   \n",
    "    fig = plt.figure(figsize=(10, 10))\n",
    "    fig.canvas.set_window_title(plot_title)\n",
    "\n",
    "    plt.imshow(H, cmap='jet')\n",
    "\n",
    "    plt.xlabel('Theta Direction'), plt.ylabel('Rho Direction')\n",
    "    plt.tight_layout()\n",
    "    plt.show()"
   ]
  },
  {
   "cell_type": "code",
   "execution_count": null,
   "metadata": {},
   "outputs": [],
   "source": []
  },
  {
   "cell_type": "code",
   "execution_count": 10,
   "metadata": {},
   "outputs": [],
   "source": [
    "def hough_lines_draw(img, indicies, rhos, thetas):\n",
    "    \n",
    "    for i in range(len(indicies)):\n",
    "        # reverse engineer lines from rhos and thetas\n",
    "        rho = rhos[indicies[i][0]]\n",
    "        theta = thetas[indicies[i][1]]\n",
    "        a = np.cos(theta)\n",
    "        b = np.sin(theta)\n",
    "        x0 = a*rho\n",
    "        y0 = b*rho\n",
    "        # these are then scaled so that the lines go off the edges of the image\n",
    "        x1 = int(x0 + 1000*(-b))\n",
    "        y1 = int(y0 + 1000*(a))\n",
    "        x2 = int(x0 - 1000*(-b))\n",
    "        y2 = int(y0 - 1000*(a))\n",
    "\n",
    "        cv2.line(img, (x1, y1), (x2, y2), (0, 255, 0), 2)"
   ]
  },
  {
   "cell_type": "code",
   "execution_count": null,
   "metadata": {},
   "outputs": [],
   "source": []
  },
  {
   "cell_type": "code",
   "execution_count": 11,
   "metadata": {},
   "outputs": [
    {
     "data": {
      "image/png": "[encoded data removed]",
      "text/plain": [
       "<Figure size 720x720 with 1 Axes>"
      ]
     },
     "metadata": {
      "needs_background": "light"
     },
     "output_type": "display_data"
    }
   ],
   "source": [
    "H, rhos, thetas = hough_lines_acc(canny_edges)\n",
    "indicies, H = hough_peaks(H, 10, nhood_size=11) # find peaks\n",
    "plot_hough_acc(H) # plot hough space, brighter spots have higher votes\n",
    "hough_lines_draw(shapes, indicies, rhos, thetas)\n",
    "\n",
    "# Show image with manual Hough Transform Lines\n",
    "cv2.imshow('Major Lines: Manual Hough Transform', shapes)\n",
    "cv2.waitKey(0)\n",
    "cv2.destroyAllWindows()"
   ]
  },
  {
   "cell_type": "code",
   "execution_count": null,
   "metadata": {},
   "outputs": [],
   "source": []
  }
 ],
 "metadata": {
  "kernelspec": {
   "display_name": "Python 3",
   "language": "python",
   "name": "python3"
  },
  "language_info": {
   "codemirror_mode": {
    "name": "ipython",
    "version": 3
   },
   "file_extension": ".py",
   "mimetype": "text/x-python",
   "name": "python",
   "nbconvert_exporter": "python",
   "pygments_lexer": "ipython3",
   "version": "3.7.3"
  }
 },
 "nbformat": 4,
 "nbformat_minor": 2
}
